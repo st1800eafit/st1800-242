{
  "cells": [
    {
      "cell_type": "code",
      "execution_count": null,
      "metadata": {
        "id": "fC5r71H5WkFu"
      },
      "outputs": [],
      "source": [
        "#\n",
        "# \n",
        "# Universidad EAFIT \n",
        "# 2024-2\n",
        "#"
      ]
    },
    {
      "cell_type": "code",
      "execution_count": null,
      "metadata": {
        "colab": {
          "base_uri": "https://localhost:8080/"
        },
        "id": "mM2mjs9IW1D8",
        "outputId": "85841578-7d3a-4e8e-ea20-02a848084c64"
      },
      "outputs": [],
      "source": [
        "#configuración en google colab\n",
        "from google.colab import drive\n",
        "drive.mount('/content/gdrive')"
      ]
    },
    {
      "cell_type": "code",
      "execution_count": null,
      "metadata": {
        "colab": {
          "base_uri": "https://localhost:8080/"
        },
        "id": "E1y5-rtrWkFy",
        "outputId": "b8aa3d15-2656-4061-e0de-3bac9b3439c5"
      },
      "outputs": [],
      "source": [
        "# dependencias que eventualmente requerirá instalar:\n",
        "!pip install nltk\n",
        "!pip install pandas\n",
        "!pip install matplotlib"
      ]
    },
    {
      "cell_type": "code",
      "execution_count": null,
      "metadata": {
        "id": "mkso6uS_WkF1"
      },
      "outputs": [],
      "source": [
        "# cargar las librerias necesarias\n",
        "## 1. nltk para 'procesamiento natural del lenguaje'\n",
        "## 2. pandas para procesamiento de dataframes, muy usado en preparación de datos\n",
        "## 3. re - expresiones regulares\n",
        "## 4. numpy, codecs, etc - otras"
      ]
    },
    {
      "cell_type": "code",
      "execution_count": null,
      "metadata": {
        "id": "5vC4mSzHWkF5"
      },
      "outputs": [],
      "source": [
        "import nltk\n",
        "import pandas as pd\n",
        "import numpy as np\n",
        "import re\n",
        "import codecs\n",
        "import matplotlib.pyplot as plt"
      ]
    },
    {
      "cell_type": "code",
      "execution_count": null,
      "metadata": {
        "id": "oeXuYyo4WkF8"
      },
      "outputs": [],
      "source": [
        "# directorios (path) de entrada y salida:\n",
        "# \n",
        "path_in=\"gdrive/MyDrive/st1800-242/datasets/\"\n",
        "path_out=\"gdrive/MyDrive/st1800-242/out/\"\n",
        "filename='doaj_1.csv'"
      ]
    },
    {
      "cell_type": "code",
      "execution_count": null,
      "metadata": {
        "colab": {
          "base_uri": "https://localhost:8080/"
        },
        "id": "yG_7yh70WkF_",
        "outputId": "1d1ef076-7203-424c-a330-9a9ac1798583"
      },
      "outputs": [],
      "source": [
        "# corpus de nltk para 'tokenizer' y 'stopwords'\n",
        "nltk.download('punkt')\n",
        "nltk.download('stopwords')"
      ]
    },
    {
      "cell_type": "code",
      "execution_count": null,
      "metadata": {
        "colab": {
          "base_uri": "https://localhost:8080/",
          "height": 531
        },
        "id": "GCJT3NW2WkGB",
        "outputId": "1e50723a-2a49-4db7-d423-3ab6da31242b"
      },
      "outputs": [],
      "source": [
        "# abrir un archivo con pandas desde aws s3\n",
        "#df = pd.read_csv('s3://emontoyapublic/doaj_1.csv',delimiter=',')\n",
        "df = pd.read_csv(path_in+filename,delimiter=',')\n",
        "df.head()\n"
      ]
    },
    {
      "cell_type": "code",
      "execution_count": null,
      "metadata": {
        "colab": {
          "base_uri": "https://localhost:8080/",
          "height": 195
        },
        "id": "oba8EkK4WkGF",
        "outputId": "d3ffe77d-36ed-4823-c7b7-5f49ae6c32a2"
      },
      "outputs": [],
      "source": [
        "df = df[['title','content']]\n",
        "df.head()"
      ]
    },
    {
      "cell_type": "code",
      "execution_count": null,
      "metadata": {
        "id": "mb36p8EgWkGH"
      },
      "outputs": [],
      "source": [
        "df['tokenized_title'] = df.apply(lambda row: nltk.word_tokenize(str(row['title'])), axis=1)\n",
        "df['count_title'] = df.apply(lambda row: len(row['tokenized_title']), axis=1)\n",
        "df['tokenized_content'] = df.apply(lambda row: nltk.word_tokenize(str(row['content'])), axis=1)\n",
        "df['count_content'] = df.apply(lambda row: len(row['tokenized_content']), axis=1)"
      ]
    },
    {
      "cell_type": "code",
      "execution_count": null,
      "metadata": {
        "colab": {
          "base_uri": "https://localhost:8080/",
          "height": 363
        },
        "id": "nx1NEuRfWkGJ",
        "outputId": "8d5c216f-d6f6-4b5d-923d-24677ac4baa7"
      },
      "outputs": [],
      "source": [
        "df.head()"
      ]
    },
    {
      "cell_type": "code",
      "execution_count": null,
      "metadata": {
        "id": "Ow39C3jfWkGM"
      },
      "outputs": [],
      "source": [
        "# Tokenize todo el contenido de 'title'\n",
        "all_tokens_title = []\n",
        "for t in df['tokenized_title']:\n",
        "    all_tokens_title.extend(t)"
      ]
    },
    {
      "cell_type": "code",
      "execution_count": null,
      "metadata": {
        "colab": {
          "base_uri": "https://localhost:8080/"
        },
        "id": "f0AiRCb0WkGO",
        "outputId": "9d17aa5d-0e71-48c8-f469-405b818b26c7"
      },
      "outputs": [],
      "source": [
        "print(\"all_tokens_title =\",len(all_tokens_title))"
      ]
    },
    {
      "cell_type": "code",
      "execution_count": null,
      "metadata": {
        "colab": {
          "base_uri": "https://localhost:8080/"
        },
        "id": "19bKvPCrWkGQ",
        "outputId": "eb5f9ed6-6145-48d9-f5e7-fa6027df0675"
      },
      "outputs": [],
      "source": [
        "# analisis de frecuencia en palabras de 'title'\n",
        "fdist_title = nltk.FreqDist(all_tokens_title)\n",
        "print('Size BoW_title=',len(fdist_title))\n",
        "topwordstitle = fdist_title.most_common(20)"
      ]
    },
    {
      "cell_type": "code",
      "execution_count": null,
      "metadata": {
        "colab": {
          "base_uri": "https://localhost:8080/",
          "height": 605
        },
        "id": "8CcbZumHWkGT",
        "outputId": "be891982-7fd3-4610-88af-29d529441831"
      },
      "outputs": [],
      "source": [
        "x,y = zip(*topwordstitle)\n",
        "plt.figure(figsize=(15,10))\n",
        "plt.bar(x,y)\n",
        "plt.xticks(rotation=90)\n",
        "plt.show()"
      ]
    },
    {
      "cell_type": "code",
      "execution_count": null,
      "metadata": {
        "id": "IoRYIpQaWkGX"
      },
      "outputs": [],
      "source": [
        "# analisis de frecuencia en palabras de 'content'\n",
        "all_tokens_content = []\n",
        "for t in df['tokenized_content']:\n",
        "    all_tokens_content.extend(t)"
      ]
    },
    {
      "cell_type": "code",
      "execution_count": null,
      "metadata": {
        "colab": {
          "base_uri": "https://localhost:8080/"
        },
        "id": "g9Lpl1wfWkGZ",
        "outputId": "2c15a7cb-f6d7-42e3-9ca9-b16a91a4560d"
      },
      "outputs": [],
      "source": [
        "print(\"all_tokens_content =\",len(all_tokens_content))"
      ]
    },
    {
      "cell_type": "code",
      "execution_count": null,
      "metadata": {
        "colab": {
          "base_uri": "https://localhost:8080/"
        },
        "id": "3xR2zzp9WkGb",
        "outputId": "855de1fd-cb78-4d61-9da8-aa378acbf339"
      },
      "outputs": [],
      "source": [
        "# analisis de frecuencia en palabras de 'content'\n",
        "fdist_content = nltk.FreqDist(all_tokens_content)\n",
        "print('Size BoW_content=',len(fdist_content))\n",
        "topwordscontent = fdist_content.most_common(20)"
      ]
    },
    {
      "cell_type": "code",
      "execution_count": null,
      "metadata": {
        "colab": {
          "base_uri": "https://localhost:8080/",
          "height": 608
        },
        "id": "iPk-KjLUWkGe",
        "outputId": "2b06180c-3c81-412a-a1c7-3b9e3f9312fb"
      },
      "outputs": [],
      "source": [
        "x,y = zip(*topwordscontent)\n",
        "plt.figure(figsize=(15,10))\n",
        "plt.bar(x,y)\n",
        "plt.xticks(rotation=90)\n",
        "plt.show()"
      ]
    },
    {
      "cell_type": "code",
      "execution_count": null,
      "metadata": {
        "colab": {
          "base_uri": "https://localhost:8080/"
        },
        "id": "2pa53Wo2WkGg",
        "outputId": "b98c7e05-2903-4138-e837-931862aa1347"
      },
      "outputs": [],
      "source": [
        "# stopwords en nltk\n",
        "from nltk.corpus import stopwords\n",
        " \n",
        "stop_words_nltk = set(stopwords.words('english'))\n",
        "print(len(stop_words_nltk))\n",
        "print(stop_words_nltk)"
      ]
    },
    {
      "cell_type": "code",
      "execution_count": null,
      "metadata": {
        "colab": {
          "base_uri": "https://localhost:8080/",
          "height": 648
        },
        "id": "JgIbnOvoWkGi",
        "outputId": "1d7abeeb-25e7-40c2-ea87-b4d3c9d99236"
      },
      "outputs": [],
      "source": [
        "# TOKENIZAR con nltk, \n",
        "# ELIMINAR tokens de long = 1\n",
        "# ELIMINAR caracteres que no sean alfanumericos\n",
        "# REMOVER stop words\n",
        "# graficar los 20 términos más frecuentes:\n",
        "\n",
        "# ya tokenizado en all_tokens_title o all_tokens_content\n",
        "tokens = [w.lower() for w in all_tokens_title if len(w)>1]\n",
        "tokens = [re.sub(r'[^A-Za-z0-9]+','',w) for w in tokens]\n",
        "tokens = [w for w in tokens if w not in stop_words_nltk]\n",
        "\n",
        "fdist = nltk.FreqDist(tokens)\n",
        "topwords = fdist.most_common(20)\n",
        "print('Size of new BoW title =',len(fdist))\n",
        "x,y = zip(*topwords)\n",
        "plt.figure(figsize=(15,10))\n",
        "plt.bar(x,y)\n",
        "plt.xticks(rotation=90)\n",
        "plt.show()"
      ]
    },
    {
      "cell_type": "code",
      "execution_count": null,
      "metadata": {
        "colab": {
          "base_uri": "https://localhost:8080/",
          "height": 635
        },
        "id": "rcY1AD8sWkGl",
        "outputId": "086a9277-3638-4a1b-865c-744fc61ec5ef"
      },
      "outputs": [],
      "source": [
        "# Stemming con NLTK\n",
        "\n",
        "from nltk.stem import PorterStemmer\n",
        "from nltk.stem import LancasterStemmer\n",
        "\n",
        "porter = PorterStemmer()\n",
        "lancaster = LancasterStemmer()\n",
        "\n",
        "#tokens = [porter.stem(w) for w in tokens]\n",
        "tokens = [lancaster.stem(w) for w in tokens]\n",
        "\n",
        "fdist = nltk.FreqDist(tokens)\n",
        "topwords = fdist.most_common(20)\n",
        "print('Size of new BoW title =',len(fdist))\n",
        "x,y = zip(*topwords)\n",
        "plt.figure(figsize=(15,10))\n",
        "plt.bar(x,y)\n",
        "plt.xticks(rotation=90)\n",
        "plt.show()"
      ]
    },
    {
      "cell_type": "code",
      "execution_count": null,
      "metadata": {
        "colab": {
          "base_uri": "https://localhost:8080/"
        },
        "id": "WBA3xKgoaob4",
        "outputId": "87c7febd-e433-4620-c8d1-da9f75de84bf"
      },
      "outputs": [],
      "source": [
        "import nltk\n",
        "nltk.download('wordnet')"
      ]
    },
    {
      "cell_type": "code",
      "execution_count": null,
      "metadata": {
        "colab": {
          "base_uri": "https://localhost:8080/",
          "height": 635
        },
        "id": "H7z0Tup3WkGn",
        "outputId": "b2743fc4-7b81-4da7-8c99-a422de738920"
      },
      "outputs": [],
      "source": [
        "# Lemmatization con NLTK\n",
        "\n",
        "from nltk.stem import WordNetLemmatizer\n",
        "\n",
        "wordnet_lemmatizer = WordNetLemmatizer()\n",
        "\n",
        "#tokens = [wordnet_lemmatizer.lemmatize(w, pos=\"v\") for w in tokens ]\n",
        "tokens = [wordnet_lemmatizer.lemmatize(w) for w in tokens ]\n",
        "\n",
        "fdist = nltk.FreqDist(tokens)\n",
        "topwords = fdist.most_common(20)\n",
        "print('Size of new BoW title =',len(fdist))\n",
        "x,y = zip(*topwords)\n",
        "plt.figure(figsize=(15,10))\n",
        "plt.bar(x,y)\n",
        "plt.xticks(rotation=90)\n",
        "plt.show()"
      ]
    },
    {
      "cell_type": "code",
      "execution_count": null,
      "metadata": {
        "colab": {
          "base_uri": "https://localhost:8080/",
          "height": 623
        },
        "id": "JPgDXXkcWkGq",
        "outputId": "22624526-b692-4f70-ece1-fd6a624cf1b0"
      },
      "outputs": [],
      "source": [
        "# algunas funciones de mejoras para la tokenización:\n",
        "tokens = [re.sub(r'[^A-Za-z0-9]+','',w) for w in all_tokens_content]\n",
        "tokens = [w.lower() for w in tokens if len(w)>1]\n",
        "tokens = [w for w in tokens if w.isalpha()]\n",
        "fdist = nltk.FreqDist(tokens)\n",
        "topwords = fdist.most_common(20)\n",
        "print('Size of new BoW title =',len(fdist))\n",
        "x,y = zip(*topwords)\n",
        "plt.figure(figsize=(15,10))\n",
        "plt.bar(x,y)\n",
        "plt.xticks(rotation=90)\n",
        "plt.show()"
      ]
    },
    {
      "cell_type": "code",
      "execution_count": null,
      "metadata": {
        "id": "DGJ2yR85WkGs"
      },
      "outputs": [],
      "source": []
    }
  ],
  "metadata": {
    "colab": {
      "name": "lab2-pandas.ipynb",
      "provenance": []
    },
    "kernelspec": {
      "display_name": "Python 3.10.6 64-bit",
      "language": "python",
      "name": "python3"
    },
    "language_info": {
      "codemirror_mode": {
        "name": "ipython",
        "version": 3
      },
      "file_extension": ".py",
      "mimetype": "text/x-python",
      "name": "python",
      "nbconvert_exporter": "python",
      "pygments_lexer": "ipython3",
      "version": "3.10.6"
    },
    "vscode": {
      "interpreter": {
        "hash": "aee8b7b246df8f9039afb4144a1f6fd8d2ca17a180786b69acc140d282b71a49"
      }
    }
  },
  "nbformat": 4,
  "nbformat_minor": 2
}
