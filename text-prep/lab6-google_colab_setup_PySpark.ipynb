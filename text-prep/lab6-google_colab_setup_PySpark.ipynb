{
  "cells": [
    {
      "cell_type": "markdown",
      "metadata": {
        "id": "kjKnwTnUo9tZ"
      },
      "source": [
        "# Data Processing using Pyspark"
      ]
    },
    {
      "cell_type": "code",
      "execution_count": null,
      "metadata": {
        "id": "QOEQDmmhphD2"
      },
      "outputs": [],
      "source": [
        "#configuración en google colab de spark y pyspark\n",
        "from google.colab import drive\n",
        "drive.mount('/content/gdrive')"
      ]
    },
    {
      "cell_type": "code",
      "execution_count": 3,
      "metadata": {
        "id": "cKQ3ax7dtASF"
      },
      "outputs": [],
      "source": [
        "#instalar java y spark\n",
        "!apt-get install openjdk-11-jdk-headless -qq > /dev/null\n",
        "!wget -q https://downloads.apache.org/spark/spark-3.5.2/spark-3.5.2-bin-hadoop3.tgz\n",
        "!tar xf spark-3.5.2-bin-hadoop3.tgz\n",
        "!pip install -q findspark"
      ]
    },
    {
      "cell_type": "code",
      "execution_count": 4,
      "metadata": {
        "id": "Nxw3GWC5uQ_k"
      },
      "outputs": [],
      "source": [
        "import os\n",
        "os.environ[\"JAVA_HOME\"] = \"/usr/lib/jvm/java-11-openjdk-amd64\"\n",
        "os.environ[\"SPARK_HOME\"] = \"/content/spark-3.5.2-bin-hadoop3\""
      ]
    },
    {
      "cell_type": "code",
      "execution_count": 5,
      "metadata": {
        "id": "X81wyQ97vFEm"
      },
      "outputs": [],
      "source": [
        "import findspark\n",
        "findspark.init()\n",
        "from pyspark.sql import SparkSession\n",
        "spark = SparkSession.builder.master(\"local[*]\").getOrCreate()\n",
        "sc = spark.sparkContext"
      ]
    },
    {
      "cell_type": "code",
      "execution_count": 6,
      "metadata": {
        "id": "4GlJg-Ljo9tn"
      },
      "outputs": [],
      "source": [
        "# Load csv Dataset \n",
        "df=spark.read.csv('sample_data/california_housing_test.csv',inferSchema=True,header=True)\n",
        "# desde S3\n",
        "# df=spark.read.csv('s3://bucke_name/datasets/sample_data.csv',inferSchema=True,header=True)"
      ]
    },
    {
      "cell_type": "code",
      "execution_count": null,
      "metadata": {
        "id": "7wwDyGy1o9tq"
      },
      "outputs": [],
      "source": [
        "#columns of dataframe\n",
        "df"
      ]
    },
    {
      "cell_type": "code",
      "execution_count": null,
      "metadata": {
        "id": "iTuLwMcfo9tu"
      },
      "outputs": [],
      "source": [
        "#check number of columns\n",
        "len(df.columns)"
      ]
    },
    {
      "cell_type": "code",
      "execution_count": null,
      "metadata": {
        "id": "yZ7X6U9No9tx"
      },
      "outputs": [],
      "source": [
        "#number of records in dataframe\n",
        "df.columns"
      ]
    },
    {
      "cell_type": "code",
      "execution_count": null,
      "metadata": {
        "id": "oaorHkvko9t0"
      },
      "outputs": [],
      "source": [
        "#shape of dataset\n",
        "print((df.count(),len(df.columns)))"
      ]
    },
    {
      "cell_type": "code",
      "execution_count": null,
      "metadata": {
        "id": "xXRe9_Ofo9t3"
      },
      "outputs": [],
      "source": [
        "#printSchema\n",
        "df.printSchema()"
      ]
    },
    {
      "cell_type": "code",
      "execution_count": null,
      "metadata": {
        "id": "mQJD8sYuo9t6"
      },
      "outputs": [],
      "source": [
        "#fisrt few rows of dataframe\n",
        "df.show(5)"
      ]
    },
    {
      "cell_type": "code",
      "execution_count": null,
      "metadata": {
        "id": "gJM5YbF4fabP"
      },
      "outputs": [],
      "source": [
        "write_uri='gdrive/MyDrive/st1800-242/out/salida_csv'"
      ]
    },
    {
      "cell_type": "code",
      "execution_count": null,
      "metadata": {
        "id": "y_0DOIw2fpXo"
      },
      "outputs": [],
      "source": [
        "df.coalesce(1).write.format(\"csv\").option(\"header\",\"true\").save(write_uri)"
      ]
    }
  ],
  "metadata": {
    "colab": {
      "name": "google-colab-setup-PySpark.ipynb",
      "provenance": [],
      "toc_visible": true
    },
    "kernelspec": {
      "display_name": "Python 3.10.6 64-bit",
      "language": "python",
      "name": "python3"
    },
    "language_info": {
      "codemirror_mode": {
        "name": "ipython",
        "version": 3
      },
      "file_extension": ".py",
      "mimetype": "text/x-python",
      "name": "python",
      "nbconvert_exporter": "python",
      "pygments_lexer": "ipython3",
      "version": "3.10.6"
    },
    "vscode": {
      "interpreter": {
        "hash": "aee8b7b246df8f9039afb4144a1f6fd8d2ca17a180786b69acc140d282b71a49"
      }
    }
  },
  "nbformat": 4,
  "nbformat_minor": 0
}
