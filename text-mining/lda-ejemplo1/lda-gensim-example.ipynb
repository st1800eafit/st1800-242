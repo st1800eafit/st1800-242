{
 "cells": [
  {
   "cell_type": "markdown",
   "metadata": {
    "id": "swPQYMnPljRX"
   },
   "source": [
    "# Paso 0: Dependencias"
   ]
  },
  {
   "cell_type": "code",
   "execution_count": null,
   "metadata": {
    "colab": {
     "base_uri": "https://localhost:8080/"
    },
    "executionInfo": {
     "elapsed": 31880,
     "status": "ok",
     "timestamp": 1605192557909,
     "user": {
      "displayName": "Edwin Nelson Montoya",
      "photoUrl": "https://lh3.googleusercontent.com/a-/AOh14GjILjSTWuElShYykArf3wP0dfM9Ii9pN9Ff9hFxGQ=s64",
      "userId": "10708817807819244709"
     },
     "user_tz": 300
    },
    "id": "yNIBND157WjN",
    "outputId": "7697f7c5-8b6e-4005-a8f9-eb1b75f339e4"
   },
   "outputs": [],
   "source": [
    "#configuración en google colab de spark y pyspark\n",
    "from google.colab import drive\n",
    "drive.mount('/content/gdrive')"
   ]
  },
  {
   "cell_type": "code",
   "execution_count": null,
   "metadata": {
    "id": "UP6ahqcYljRZ"
   },
   "outputs": [],
   "source": [
    "#!pip install smart-open\n",
    "#ref: https://radimrehurek.com/gensim/\n",
    "!pip install gensim\n",
    "!pip install nltk\n",
    "!pip install pyLDAvis\n",
    "# descargar datos 'metadata.csv' de: https://www.kaggle.com/allen-institute-for-ai/CORD-19-research-challenge\n",
    "# https://www.kaggle.com/allen-institute-for-ai/CORD-19-research-challenge?select=metadata.csv"
   ]
  },
  {
   "cell_type": "code",
   "execution_count": null,
   "metadata": {
    "id": "oAHMKCCg7rS7"
   },
   "outputs": [],
   "source": [
    "import pandas as pd\n",
    "import numpy as np\n",
    "import nltk\n",
    "import re"
   ]
  },
  {
   "cell_type": "code",
   "execution_count": null,
   "metadata": {
    "id": "b-jULyUhljRe"
   },
   "outputs": [],
   "source": [
    "# settings en nltk: tokenizador y stopwords\n",
    "from nltk.corpus import stopwords\n",
    "nltk.download('punkt')\n",
    "nltk.download('stopwords')\n",
    "stop_words_nltk = set(stopwords.words('english'))"
   ]
  },
  {
   "cell_type": "code",
   "execution_count": null,
   "metadata": {
    "colab": {
     "base_uri": "https://localhost:8080/"
    },
    "executionInfo": {
     "elapsed": 7636,
     "status": "ok",
     "timestamp": 1605195161011,
     "user": {
      "displayName": "Edwin Nelson Montoya",
      "photoUrl": "https://lh3.googleusercontent.com/a-/AOh14GjILjSTWuElShYykArf3wP0dfM9Ii9pN9Ff9hFxGQ=s64",
      "userId": "10708817807819244709"
     },
     "user_tz": 300
    },
    "id": "nQAboo32ljRi",
    "outputId": "4ed6f367-8ade-408d-8623-3b44028ea220"
   },
   "outputs": [],
   "source": [
    "# cargar datos en pandas\n",
    "#df = pd.read_csv('metadata.csv')\n",
    "df = pd.read_csv('gdrive/MyDrive/st1800-241/datasets/metadata.csv')"
   ]
  },
  {
   "cell_type": "code",
   "execution_count": null,
   "metadata": {
    "id": "F6nFAosOPbtG"
   },
   "outputs": [],
   "source": [
    "# analisis descriptivo de datos"
   ]
  },
  {
   "cell_type": "code",
   "execution_count": null,
   "metadata": {
    "colab": {
     "base_uri": "https://localhost:8080/",
     "height": 551
    },
    "executionInfo": {
     "elapsed": 527,
     "status": "ok",
     "timestamp": 1605192623724,
     "user": {
      "displayName": "Edwin Nelson Montoya",
      "photoUrl": "https://lh3.googleusercontent.com/a-/AOh14GjILjSTWuElShYykArf3wP0dfM9Ii9pN9Ff9hFxGQ=s64",
      "userId": "10708817807819244709"
     },
     "user_tz": 300
    },
    "id": "mfykocwVljRm",
    "outputId": "9c4f8327-7b6f-4163-c393-e95002df008c"
   },
   "outputs": [],
   "source": [
    "df.head()"
   ]
  },
  {
   "cell_type": "code",
   "execution_count": null,
   "metadata": {
    "colab": {
     "base_uri": "https://localhost:8080/"
    },
    "executionInfo": {
     "elapsed": 463,
     "status": "ok",
     "timestamp": 1605192627419,
     "user": {
      "displayName": "Edwin Nelson Montoya",
      "photoUrl": "https://lh3.googleusercontent.com/a-/AOh14GjILjSTWuElShYykArf3wP0dfM9Ii9pN9Ff9hFxGQ=s64",
      "userId": "10708817807819244709"
     },
     "user_tz": 300
    },
    "id": "JURduGwVljRq",
    "outputId": "61037088-08c9-44dc-c605-9758febfe042"
   },
   "outputs": [],
   "source": [
    "df.shape"
   ]
  },
  {
   "cell_type": "code",
   "execution_count": null,
   "metadata": {
    "colab": {
     "base_uri": "https://localhost:8080/"
    },
    "executionInfo": {
     "elapsed": 675,
     "status": "ok",
     "timestamp": 1605193123192,
     "user": {
      "displayName": "Edwin Nelson Montoya",
      "photoUrl": "https://lh3.googleusercontent.com/a-/AOh14GjILjSTWuElShYykArf3wP0dfM9Ii9pN9Ff9hFxGQ=s64",
      "userId": "10708817807819244709"
     },
     "user_tz": 300
    },
    "id": "fU3B4ZVi8vQJ",
    "outputId": "f598d101-cf59-4f12-b8ac-b41daa2a0ce6"
   },
   "outputs": [],
   "source": [
    "df.count()"
   ]
  },
  {
   "cell_type": "code",
   "execution_count": null,
   "metadata": {
    "colab": {
     "base_uri": "https://localhost:8080/",
     "height": 195
    },
    "executionInfo": {
     "elapsed": 490,
     "status": "ok",
     "timestamp": 1605195174957,
     "user": {
      "displayName": "Edwin Nelson Montoya",
      "photoUrl": "https://lh3.googleusercontent.com/a-/AOh14GjILjSTWuElShYykArf3wP0dfM9Ii9pN9Ff9hFxGQ=s64",
      "userId": "10708817807819244709"
     },
     "user_tz": 300
    },
    "id": "RoFkGDrdBnX5",
    "outputId": "68b0986b-1703-4ff6-fafd-7b0005121a60"
   },
   "outputs": [],
   "source": [
    "# Inicio del proceso LDA\n",
    "# filtrar las columnas de interés\n",
    "df = df[['cord_uid','title','abstract']]\n",
    "df.head()"
   ]
  },
  {
   "cell_type": "code",
   "execution_count": null,
   "metadata": {
    "id": "XOpTnUgRBl65"
   },
   "outputs": [],
   "source": [
    "# función general para preparación de datos: tokenización, remoción caracteres especiales\n",
    "# minusculas.... no incluido stemming y lematización.\n",
    "def textprep(line):\n",
    "    tokens = nltk.word_tokenize(str(line))\n",
    "    tokens = [w.lower() for w in tokens if len(w)>1]\n",
    "    tokens = [re.sub(r'[^A-Za-z0-9]+','',w) for w in tokens]\n",
    "    tokens = [w for w in tokens if w not in stop_words_nltk] \n",
    "    return tokens"
   ]
  },
  {
   "cell_type": "code",
   "execution_count": null,
   "metadata": {
    "colab": {
     "base_uri": "https://localhost:8080/",
     "height": 195
    },
    "executionInfo": {
     "elapsed": 62907,
     "status": "ok",
     "timestamp": 1605195372084,
     "user": {
      "displayName": "Edwin Nelson Montoya",
      "photoUrl": "https://lh3.googleusercontent.com/a-/AOh14GjILjSTWuElShYykArf3wP0dfM9Ii9pN9Ff9hFxGQ=s64",
      "userId": "10708817807819244709"
     },
     "user_tz": 300
    },
    "id": "IDmRC0cpAim2",
    "outputId": "9a6925dc-d24f-4ecd-9239-1ba3fa7b77a9"
   },
   "outputs": [],
   "source": [
    "# creación de columna con tokenización de una columna de interés especifica\n",
    "df['tokens_title'] = df.apply(lambda row: textprep(row['title']), axis=1)\n",
    "df.head()"
   ]
  },
  {
   "cell_type": "markdown",
   "metadata": {
    "id": "L1YBxN9JljRt"
   },
   "source": [
    "### Construir el BoW (diccionario) de términos"
   ]
  },
  {
   "cell_type": "code",
   "execution_count": null,
   "metadata": {
    "id": "rjzBfwJXljRu"
   },
   "outputs": [],
   "source": [
    "# Creación del BoW - en gensim es Dictionary\n",
    "from gensim.corpora import Dictionary\n",
    "dictionary = Dictionary(df.tokens_title)"
   ]
  },
  {
   "cell_type": "code",
   "execution_count": null,
   "metadata": {},
   "outputs": [],
   "source": [
    "# Bag-of-words representation of the documents.\n",
    "corpus = [dictionary.doc2bow(doc) for doc in df.tokens_title]"
   ]
  },
  {
   "cell_type": "code",
   "execution_count": null,
   "metadata": {},
   "outputs": [],
   "source": [
    "print(corpus[:5])"
   ]
  },
  {
   "cell_type": "code",
   "execution_count": null,
   "metadata": {
    "colab": {
     "base_uri": "https://localhost:8080/"
    },
    "executionInfo": {
     "elapsed": 475,
     "status": "ok",
     "timestamp": 1605195584502,
     "user": {
      "displayName": "Edwin Nelson Montoya",
      "photoUrl": "https://lh3.googleusercontent.com/a-/AOh14GjILjSTWuElShYykArf3wP0dfM9Ii9pN9Ff9hFxGQ=s64",
      "userId": "10708817807819244709"
     },
     "user_tz": 300
    },
    "id": "-Hd_4vrqljRz",
    "outputId": "c2df19c1-cf64-49d4-8efe-b7151f6120c2"
   },
   "outputs": [],
   "source": [
    "print(dictionary)"
   ]
  },
  {
   "cell_type": "markdown",
   "metadata": {
    "id": "G1cn3_YDljR4"
   },
   "source": [
    "### Construir matriz de documentos vs términos"
   ]
  },
  {
   "cell_type": "code",
   "execution_count": null,
   "metadata": {
    "colab": {
     "base_uri": "https://localhost:8080/"
    },
    "executionInfo": {
     "elapsed": 9998,
     "status": "ok",
     "timestamp": 1605196196243,
     "user": {
      "displayName": "Edwin Nelson Montoya",
      "photoUrl": "https://lh3.googleusercontent.com/a-/AOh14GjILjSTWuElShYykArf3wP0dfM9Ii9pN9Ff9hFxGQ=s64",
      "userId": "10708817807819244709"
     },
     "user_tz": 300
    },
    "id": "04IBngxPljR5",
    "outputId": "d013013c-24a7-4985-9863-52a822ef665a"
   },
   "outputs": [],
   "source": [
    "# libreria para paralelizar\n",
    "import multiprocessing as mp\n",
    "import time\n",
    "\n",
    "t0 = time.time()\n",
    "pool = mp.Pool(mp.cpu_count())\n",
    "doc_term_matrix = pool.map(dictionary.doc2bow, [sentence for sentence in df.tokens_title])\n",
    "pool.close()\n",
    "print(time.time()-t0)"
   ]
  },
  {
   "cell_type": "markdown",
   "metadata": {
    "id": "jvLoK1nNljR8"
   },
   "source": [
    "### Construir modelo LDA"
   ]
  },
  {
   "cell_type": "code",
   "execution_count": null,
   "metadata": {
    "colab": {
     "base_uri": "https://localhost:8080/",
     "height": 1000
    },
    "executionInfo": {
     "elapsed": 949053,
     "status": "error",
     "timestamp": 1605197173207,
     "user": {
      "displayName": "Edwin Nelson Montoya",
      "photoUrl": "https://lh3.googleusercontent.com/a-/AOh14GjILjSTWuElShYykArf3wP0dfM9Ii9pN9Ff9hFxGQ=s64",
      "userId": "10708817807819244709"
     },
     "user_tz": 300
    },
    "id": "l0T3ed7-ljR9",
    "outputId": "8bca6a03-1d1e-488d-81db-0a64a1e4b2bc"
   },
   "outputs": [],
   "source": [
    "from gensim.models.ldamulticore import LdaMulticore\n",
    "\n",
    "t0 = time.time()\n",
    "lda_model = LdaMulticore(doc_term_matrix, num_topics=20, id2word = dictionary, passes=10, workers=10)\n",
    "print(time.time()-t0)"
   ]
  },
  {
   "cell_type": "code",
   "execution_count": null,
   "metadata": {},
   "outputs": [],
   "source": [
    "def assigntopic(doc):\n",
    "    vector = lda_model[dictionary.doc2bow(doc)] \n",
    "    # opción 1: todos los tópicos ordenados de mayor a menor, podria ser topN tambien asi: return vector[:5] n=5\n",
    "    vector = sorted(vector, key=lambda item: -item[1])\n",
    "    # opción 2: asignar el tópico mayor a cada documento\n",
    "    #vector = max(vector,key=lambda item: item[1])\n",
    "    return vector"
   ]
  },
  {
   "cell_type": "code",
   "execution_count": null,
   "metadata": {},
   "outputs": [],
   "source": [
    "df['topics'] = df.apply(lambda row: assigntopic(row['tokens_title']), axis=1)\n",
    "df.head()"
   ]
  },
  {
   "cell_type": "markdown",
   "metadata": {
    "id": "u5OMIpCXljSA"
   },
   "source": [
    "### Ejemplos de tópicos del modelo"
   ]
  },
  {
   "cell_type": "code",
   "execution_count": null,
   "metadata": {
    "id": "l9gRw4KWljSB"
   },
   "outputs": [],
   "source": [
    "# Mostrar los términos y sus pesos de un documento\n",
    "print(list(lda_model[doc_term_matrix[0]]))\n",
    "\n",
    "# Mostrar los términos más relevantes de los tópicos más relevantes tópico y sus pesos\n",
    "print(lda_model.print_topics(num_topics=10, num_words=3))"
   ]
  },
  {
   "cell_type": "code",
   "execution_count": null,
   "metadata": {},
   "outputs": [],
   "source": [
    "lda_topic_assignment = [max(p,key=lambda item: item[1]) for p in lda_model[corpus]]"
   ]
  },
  {
   "cell_type": "markdown",
   "metadata": {
    "id": "1R1o7gDHljSE"
   },
   "source": [
    "## Visualización de todos los tópicos"
   ]
  },
  {
   "cell_type": "code",
   "execution_count": null,
   "metadata": {
    "id": "jJKiu5ZCljSF"
   },
   "outputs": [],
   "source": [
    "import pyLDAvis\n",
    "import pyLDAvis.gensim_models as gensimvis\n",
    "\n",
    "t0 = time.time()\n",
    "pyLDAvis.enable_notebook()\n",
    "vis = gensimvis.prepare(lda_model, doc_term_matrix, dictionary, sort_topics = False)\n",
    "print(time.time()-t0)\n",
    "vis"
   ]
  },
  {
   "cell_type": "markdown",
   "metadata": {
    "id": "-QKgWp_RljSI"
   },
   "source": [
    "### Guardar la visualización en un archivo HTML"
   ]
  },
  {
   "cell_type": "code",
   "execution_count": null,
   "metadata": {
    "id": "e_GRrjJkljSO"
   },
   "outputs": [],
   "source": [
    "pyLDAvis.save_html(vis, 'lda_visualization.html')"
   ]
  },
  {
   "cell_type": "code",
   "execution_count": null,
   "metadata": {},
   "outputs": [],
   "source": [
    "from gensim.test.utils import common_texts\n",
    "from gensim.corpora.dictionary import Dictionary\n",
    "from gensim.models.ldamulticore import LdaModel\n",
    "\n",
    "# Create a corpus from a list of texts\n",
    "common_dictionary = Dictionary(common_texts)\n",
    "common_corpus = [common_dictionary.doc2bow(text) for text in common_texts]\n",
    "# Train the model on the corpus.\n",
    "lda = LdaModel(common_corpus, num_topics=10)"
   ]
  },
  {
   "cell_type": "code",
   "execution_count": null,
   "metadata": {},
   "outputs": [],
   "source": [
    "print(len(common_texts))"
   ]
  },
  {
   "cell_type": "code",
   "execution_count": null,
   "metadata": {},
   "outputs": [],
   "source": [
    "for t in common_texts:\n",
    "    print(t)"
   ]
  },
  {
   "cell_type": "code",
   "execution_count": null,
   "metadata": {},
   "outputs": [],
   "source": [
    "for text in common_texts:\n",
    "    print(common_dictionary.doc2bow(text))"
   ]
  },
  {
   "cell_type": "code",
   "execution_count": null,
   "metadata": {},
   "outputs": [],
   "source": [
    "print(lda)"
   ]
  },
  {
   "cell_type": "code",
   "execution_count": null,
   "metadata": {},
   "outputs": [],
   "source": [
    "# Create a new corpus, made of previously unseen documents.\n",
    "other_texts = [\n",
    "    ['computer', 'time', 'graph'],\n",
    "    ['survey', 'response', 'eps','trees'],\n",
    "    ['human', 'system', 'computer']\n",
    "]\n",
    "other_corpus = [common_dictionary.doc2bow(text) for text in other_texts]\n",
    "unseen_doc = other_corpus[1]\n",
    "vector = lda[unseen_doc]  # get topic probability distribution for a document"
   ]
  },
  {
   "cell_type": "code",
   "execution_count": null,
   "metadata": {},
   "outputs": [],
   "source": [
    "print(vector)"
   ]
  },
  {
   "cell_type": "code",
   "execution_count": null,
   "metadata": {},
   "outputs": [],
   "source": [
    "for text in other_texts:\n",
    "    print(text)"
   ]
  },
  {
   "cell_type": "code",
   "execution_count": null,
   "metadata": {},
   "outputs": [],
   "source": [
    "for text in other_texts:\n",
    "    print(common_dictionary.doc2bow(text))\n",
    "for text in other_texts:\n",
    "    print()"
   ]
  },
  {
   "cell_type": "code",
   "execution_count": null,
   "metadata": {},
   "outputs": [],
   "source": [
    "def assigntopic(doc):\n",
    "    vector = lda[doc] \n",
    "    return vector"
   ]
  },
  {
   "cell_type": "code",
   "execution_count": null,
   "metadata": {},
   "outputs": [],
   "source": [
    "other_texts = [\n",
    "    ['computer', 'time', 'graph'],\n",
    "    ['survey', 'response', 'eps','trees'],\n",
    "    ['human', 'system', 'computer']\n",
    "]\n",
    "other_corpus = [common_dictionary.doc2bow(text) for text in other_texts]\n",
    "unseen_doc = other_corpus[1]\n",
    "vector = lda[unseen_doc]  # get topic probability distribution for a document"
   ]
  }
 ],
 "metadata": {
  "colab": {
   "name": "lda-gensim-example.ipynb",
   "provenance": []
  },
  "kernelspec": {
   "display_name": "Python 3.10.6 64-bit",
   "language": "python",
   "name": "python3"
  },
  "language_info": {
   "codemirror_mode": {
    "name": "ipython",
    "version": 3
   },
   "file_extension": ".py",
   "mimetype": "text/x-python",
   "name": "python",
   "nbconvert_exporter": "python",
   "pygments_lexer": "ipython3",
   "version": "3.10.6"
  },
  "vscode": {
   "interpreter": {
    "hash": "aee8b7b246df8f9039afb4144a1f6fd8d2ca17a180786b69acc140d282b71a49"
   }
  }
 },
 "nbformat": 4,
 "nbformat_minor": 1
}
