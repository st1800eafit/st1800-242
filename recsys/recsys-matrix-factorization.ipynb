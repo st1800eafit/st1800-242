{
 "cells": [
  {
   "cell_type": "code",
   "execution_count": 1,
   "id": "709e2d5d-3884-403a-92a3-5bb2b32fcccb",
   "metadata": {
    "tags": []
   },
   "outputs": [],
   "source": [
    "# sistemas de recomendación\n",
    "# factorización de matriz de interacción  SVD\n",
    "# Podemos usar A estimada para predecir valores de recomendación\n",
    "import numpy as np\n",
    "#datos de entrada\n",
    "A = np.array([\n",
    "    [5, 3, 0, 4],\n",
    "    [4, 0, 0, 0],\n",
    "    [0, 5, 4, 0],\n",
    "    [0, 0, 0, 5]\n",
    "])\n",
    "# descomposición en valores singulares (SVD) \n",
    "# A = U x Σ x V^T\n",
    "# A: matriz de calificaciones\n",
    "# U: matriz de características de usuarios (U).\n",
    "# V: matriz de características de elementos (V).\n",
    "# Σ: matriz diagonal de valores singulares (Σ). \n",
    "# La matriz Σ contiene información sobre la importancia relativa de cada característica.\n",
    "\n",
    "U, Sigma, Vt = np.linalg.svd(A)"
   ]
  },
  {
   "cell_type": "code",
   "execution_count": 2,
   "id": "fd8afd45-2fd9-4945-8e13-126c655ca4e7",
   "metadata": {
    "tags": []
   },
   "outputs": [
    {
     "name": "stdout",
     "output_type": "stream",
     "text": [
      "[[-0.80927637 -0.21185422 -0.1538383  -0.52585485]\n",
      " [-0.28599399 -0.19755527 -0.62195328  0.70167904]\n",
      " [-0.38422382  0.89455109  0.11507344  0.19725241]\n",
      " [-0.34007536 -0.34039398  0.75912186  0.43842295]]\n"
     ]
    }
   ],
   "source": [
    "print(U)"
   ]
  },
  {
   "cell_type": "code",
   "execution_count": 3,
   "id": "8d990e45-744e-4cd4-8e1c-c07b247c7a99",
   "metadata": {
    "tags": []
   },
   "outputs": [
    {
     "name": "stdout",
     "output_type": "stream",
     "text": [
      "[8.52020793 6.11944351 4.57678278 1.00574717]\n"
     ]
    }
   ],
   "source": [
    "print(Sigma)"
   ]
  },
  {
   "cell_type": "code",
   "execution_count": 4,
   "id": "7a348270-3987-47f4-b8fb-2679b3823a8e",
   "metadata": {
    "tags": []
   },
   "outputs": [
    {
     "name": "stdout",
     "output_type": "stream",
     "text": [
      "[[-0.60918206 -0.51042747 -0.18038237 -0.57950256]\n",
      " [-0.30223209  0.6270493   0.58472708 -0.41660435]\n",
      " [-0.71163627  0.02487605  0.10057146  0.69486717]\n",
      " [ 0.17642793 -0.58792359  0.784501    0.08818853]]\n"
     ]
    }
   ],
   "source": [
    "print(Vt)"
   ]
  },
  {
   "cell_type": "code",
   "execution_count": 5,
   "id": "66657474-1de3-45e9-a2e1-255a63122df7",
   "metadata": {
    "tags": []
   },
   "outputs": [],
   "source": [
    "k = 2  # Número de características a conservar\n",
    "\n",
    "U_k = U[:, :k]\n",
    "Sigma_k = np.diag(Sigma[:k])\n",
    "Vt_k = Vt[:k, :]"
   ]
  },
  {
   "cell_type": "code",
   "execution_count": 6,
   "id": "b1f53f3b-7ff7-4054-a034-4ef5f793334f",
   "metadata": {
    "tags": []
   },
   "outputs": [
    {
     "name": "stdout",
     "output_type": "stream",
     "text": [
      "[[-0.60918206 -0.51042747 -0.18038237 -0.57950256]\n",
      " [-0.30223209  0.6270493   0.58472708 -0.41660435]]\n"
     ]
    }
   ],
   "source": [
    "print(Vt_k)"
   ]
  },
  {
   "cell_type": "code",
   "execution_count": 7,
   "id": "66664ab7-24dd-4335-bb10-047306d8c06b",
   "metadata": {
    "tags": []
   },
   "outputs": [
    {
     "name": "stdout",
     "output_type": "stream",
     "text": [
      "Matriz de calificaciones estimadas:\n",
      "[[ 4.59225663  2.70657556  0.48571536  4.53588607]\n",
      " [ 1.84978805  0.48571536 -0.26735033  1.91573504]\n",
      " [ 0.33979388  5.10353447  3.79139836 -0.38345838]\n",
      " [ 2.3946688   0.17281282 -0.69533899  2.54691198]]\n"
     ]
    }
   ],
   "source": [
    "A_estimada = np.dot(np.dot(U_k, Sigma_k), Vt_k)\n",
    "\n",
    "print(\"Matriz de calificaciones estimadas:\")\n",
    "print(A_estimada)"
   ]
  },
  {
   "cell_type": "code",
   "execution_count": null,
   "id": "c7c8f0e7-4f21-4936-8dfb-c4db1b040a66",
   "metadata": {},
   "outputs": [],
   "source": [
    "# puede probar otras descomposiciones y cálculo de A estimadas por:\n",
    "# Descomposición QR: se enfoca en encontrar una matriz ortogonal Q y una matriz triangular superior R\n",
    "# que al multiplicarse se aproximen a la matriz original A\n",
    "\n",
    "# Factorización no negativa de matrices (NMF): descomponer una matriz A en dos matrices W y H\n",
    "# tales que todas las entradas de W y H sean no negativas. \n",
    "# Esta técnica es útil en sistemas de recomendación donde se busca tener valores no negativos \n",
    "# en las matrices de características de usuarios y elementos.\n",
    "\n",
    "# Factorización de matrices probabilísticas (PMF):  se modela cada entrada de la matriz de calificaciones \n",
    "# como una distribución de probabilidad condicional de dos variables latentes: una para el usuario y otra \n",
    "# para el elemento. Estas distribuciones se multiplican para obtener la probabilidad conjunta de una \n",
    "# calificación. Luego, se maximiza la probabilidad conjunta utilizando métodos de optimización \n",
    "# para ajustar los parámetros de las matrices de características de usuario y elemento.\n"
   ]
  }
 ],
 "metadata": {
  "kernelspec": {
   "display_name": "Python 3 (ipykernel)",
   "language": "python",
   "name": "python3"
  },
  "language_info": {
   "codemirror_mode": {
    "name": "ipython",
    "version": 3
   },
   "file_extension": ".py",
   "mimetype": "text/x-python",
   "name": "python",
   "nbconvert_exporter": "python",
   "pygments_lexer": "ipython3",
   "version": "3.11.5"
  }
 },
 "nbformat": 4,
 "nbformat_minor": 5
}
